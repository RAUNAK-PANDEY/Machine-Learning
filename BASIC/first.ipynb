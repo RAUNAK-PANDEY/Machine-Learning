{
 "cells": [
  {
   "cell_type": "code",
   "execution_count": 15,
   "id": "7be3ca5b",
   "metadata": {},
   "outputs": [
    {
     "name": "stdout",
     "output_type": "stream",
     "text": [
      "Hello World\n",
      "Raunak Pandey\n"
     ]
    }
   ],
   "source": [
    "print('Hello World')\n",
    "\n",
    "print('Raunak Pandey')"
   ]
  },
  {
   "cell_type": "markdown",
   "id": "01038a5e",
   "metadata": {},
   "source": [
    "# Header 1\n",
    "## Header 2\n",
    "### Header 3"
   ]
  },
  {
   "cell_type": "markdown",
   "id": "be12fa02",
   "metadata": {},
   "source": [
    "[Udacity's home page](https://www.udacity.com)"
   ]
  },
  {
   "cell_type": "markdown",
   "id": "b9511c11",
   "metadata": {},
   "source": [
    "# Header 1\n",
    "## Header 2\n",
    "### Header 3"
   ]
  },
  {
   "cell_type": "markdown",
   "id": "83524a48",
   "metadata": {},
   "source": [
    "[Udacity's home page](https://www.udacity.com)"
   ]
  },
  {
   "cell_type": "markdown",
   "id": "b9a07906",
   "metadata": {},
   "source": [
    "[Udacity's home page](https://www.udacity.com)"
   ]
  },
  {
   "cell_type": "markdown",
   "id": "4b2ed012",
   "metadata": {},
   "source": [
    "**aardvark**"
   ]
  },
  {
   "cell_type": "markdown",
   "id": "90ec8c29",
   "metadata": {},
   "source": [
    "$$\n",
    "y = \\frac{a}{b+c}\n",
    "$$"
   ]
  },
  {
   "cell_type": "code",
   "execution_count": null,
   "id": "f88184bc",
   "metadata": {},
   "outputs": [],
   "source": []
  }
 ],
 "metadata": {
  "kernelspec": {
   "display_name": "Python 3 (ipykernel)",
   "language": "python",
   "name": "python3"
  },
  "language_info": {
   "codemirror_mode": {
    "name": "ipython",
    "version": 3
   },
   "file_extension": ".py",
   "mimetype": "text/x-python",
   "name": "python",
   "nbconvert_exporter": "python",
   "pygments_lexer": "ipython3",
   "version": "3.8.12"
  }
 },
 "nbformat": 4,
 "nbformat_minor": 5
}
